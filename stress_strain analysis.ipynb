{
 "cells": [
  {
   "cell_type": "code",
   "execution_count": 1,
   "id": "2e7c8bbb",
   "metadata": {},
   "outputs": [],
   "source": [
    "import numpy as np\n",
    "from scipy import optimize\n",
    "from scipy.stats import linregress\n",
    "import matplotlib.pyplot as plt\n",
    "\n",
    "%matplotlib inline"
   ]
  },
  {
   "cell_type": "code",
   "execution_count": 2,
   "id": "52a4aa19",
   "metadata": {},
   "outputs": [],
   "source": [
    "\n",
    "import os\n",
    "import glob\n",
    "from collections import defaultdict\n",
    "\n",
    "import pandas as pd"
   ]
  },
  {
   "cell_type": "code",
   "execution_count": 3,
   "id": "3b24a2b0",
   "metadata": {},
   "outputs": [],
   "source": [
    "from scipy.optimize import curve_fit\n",
    "from sklearn.metrics import r2_score\n",
    "\n",
    "def ax(x, a):\n",
    "    return a*x"
   ]
  },
  {
   "cell_type": "code",
   "execution_count": 4,
   "id": "3de65032",
   "metadata": {},
   "outputs": [],
   "source": [
    "folder_with_data = 'Tension_x'"
   ]
  },
  {
   "cell_type": "code",
   "execution_count": 5,
   "id": "80af7447",
   "metadata": {},
   "outputs": [],
   "source": [
    "#Нахожу def1.txt файлы во всех папках p_N:\n",
    "collected_data = defaultdict(list)\n",
    "\n",
    "for f in glob.glob(f'./{folder_with_data}/*_*/def1.txt'):\n",
    "    print(f)\n",
    "    \n",
    "    pressure = f.split('\\\\')[1].split('_')[0]     \n",
    "\n",
    "    df_Strain_and_Stress = pd.read_csv(\n",
    "        f,\n",
    "        skiprows=1,\n",
    "        header=None,\n",
    "        sep='\\s+',\n",
    "        engine='python'\n",
    "    )\n",
    "\n",
    "    df_Strain_and_Stress.columns = ['deformation', 'sx', 'sy', 'sz']\n",
    "\n",
    "    collected_data[pressure].append(df_Strain_and_Stress)"
   ]
  },
  {
   "cell_type": "code",
   "execution_count": 137,
   "id": "34cfc09d",
   "metadata": {},
   "outputs": [],
   "source": [
    "collected_data = {k: pd.concat(df_list, axis=0) for k, df_list in collected_data.items()}"
   ]
  },
  {
   "cell_type": "raw",
   "id": "12fd651e",
   "metadata": {},
   "source": [
    "#Делаю таблицу Деформация - Напряжение по всем данным для указанного давления:\n",
    "collected_data['14000']"
   ]
  },
  {
   "cell_type": "code",
   "execution_count": 138,
   "id": "602b4ac3",
   "metadata": {
    "scrolled": true
   },
   "outputs": [
    {
     "data": {
      "text/plain": [
       "<AxesSubplot:xlabel='deformation', ylabel='sx'>"
      ]
     },
     "execution_count": 138,
     "metadata": {},
     "output_type": "execute_result"
    },
    {
     "data": {
      "image/png": "[encoded data removed]",
      "text/plain": [
       "<Figure size 432x288 with 1 Axes>"
      ]
     },
     "metadata": {
      "needs_background": "light"
     },
     "output_type": "display_data"
    }
   ],
   "source": [
    "#Рисую график Деформация - Напряжение по всем точкам для данного давления:\n",
    "collected_data['44000'].plot(kind='scatter', x='deformation', y='sx')"
   ]
  },
  {
   "cell_type": "code",
   "execution_count": 139,
   "id": "15d1b55d",
   "metadata": {},
   "outputs": [],
   "source": [
    "df = collected_data['44000']"
   ]
  },
  {
   "cell_type": "code",
   "execution_count": 140,
   "id": "45688cff",
   "metadata": {},
   "outputs": [
    {
     "data": {
      "text/html": [
       "<div>\n",
       "<style scoped>\n",
       "    .dataframe tbody tr th:only-of-type {\n",
       "        vertical-align: middle;\n",
       "    }\n",
       "\n",
       "    .dataframe tbody tr th {\n",
       "        vertical-align: top;\n",
       "    }\n",
       "\n",
       "    .dataframe thead th {\n",
       "        text-align: right;\n",
       "    }\n",
       "</style>\n",
       "<table border=\"1\" class=\"dataframe\">\n",
       "  <thead>\n",
       "    <tr style=\"text-align: right;\">\n",
       "      <th></th>\n",
       "      <th>deformation</th>\n",
       "      <th>sx</th>\n",
       "      <th>sy</th>\n",
       "      <th>sz</th>\n",
       "    </tr>\n",
       "  </thead>\n",
       "  <tbody>\n",
       "    <tr>\n",
       "      <th>0</th>\n",
       "      <td>5.392362e-16</td>\n",
       "      <td>-0.004496</td>\n",
       "      <td>0.000536</td>\n",
       "      <td>0.014170</td>\n",
       "    </tr>\n",
       "    <tr>\n",
       "      <th>1</th>\n",
       "      <td>5.000000e-03</td>\n",
       "      <td>0.133393</td>\n",
       "      <td>0.082291</td>\n",
       "      <td>0.065527</td>\n",
       "    </tr>\n",
       "    <tr>\n",
       "      <th>2</th>\n",
       "      <td>1.000000e-02</td>\n",
       "      <td>0.104273</td>\n",
       "      <td>0.038766</td>\n",
       "      <td>0.071412</td>\n",
       "    </tr>\n",
       "    <tr>\n",
       "      <th>3</th>\n",
       "      <td>1.500000e-02</td>\n",
       "      <td>0.198819</td>\n",
       "      <td>0.098255</td>\n",
       "      <td>0.071611</td>\n",
       "    </tr>\n",
       "    <tr>\n",
       "      <th>4</th>\n",
       "      <td>2.000000e-02</td>\n",
       "      <td>0.172053</td>\n",
       "      <td>0.056615</td>\n",
       "      <td>0.055078</td>\n",
       "    </tr>\n",
       "    <tr>\n",
       "      <th>...</th>\n",
       "      <td>...</td>\n",
       "      <td>...</td>\n",
       "      <td>...</td>\n",
       "      <td>...</td>\n",
       "    </tr>\n",
       "    <tr>\n",
       "      <th>296</th>\n",
       "      <td>1.480000e+00</td>\n",
       "      <td>0.071698</td>\n",
       "      <td>0.023440</td>\n",
       "      <td>0.036892</td>\n",
       "    </tr>\n",
       "    <tr>\n",
       "      <th>297</th>\n",
       "      <td>1.485000e+00</td>\n",
       "      <td>0.056893</td>\n",
       "      <td>0.025436</td>\n",
       "      <td>0.030801</td>\n",
       "    </tr>\n",
       "    <tr>\n",
       "      <th>298</th>\n",
       "      <td>1.490000e+00</td>\n",
       "      <td>0.084693</td>\n",
       "      <td>0.017487</td>\n",
       "      <td>0.049668</td>\n",
       "    </tr>\n",
       "    <tr>\n",
       "      <th>299</th>\n",
       "      <td>1.495000e+00</td>\n",
       "      <td>0.084585</td>\n",
       "      <td>0.005146</td>\n",
       "      <td>0.027637</td>\n",
       "    </tr>\n",
       "    <tr>\n",
       "      <th>300</th>\n",
       "      <td>1.500000e+00</td>\n",
       "      <td>0.073437</td>\n",
       "      <td>0.045028</td>\n",
       "      <td>0.027319</td>\n",
       "    </tr>\n",
       "  </tbody>\n",
       "</table>\n",
       "<p>602 rows × 4 columns</p>\n",
       "</div>"
      ],
      "text/plain": [
       "      deformation        sx        sy        sz\n",
       "0    5.392362e-16 -0.004496  0.000536  0.014170\n",
       "1    5.000000e-03  0.133393  0.082291  0.065527\n",
       "2    1.000000e-02  0.104273  0.038766  0.071412\n",
       "3    1.500000e-02  0.198819  0.098255  0.071611\n",
       "4    2.000000e-02  0.172053  0.056615  0.055078\n",
       "..            ...       ...       ...       ...\n",
       "296  1.480000e+00  0.071698  0.023440  0.036892\n",
       "297  1.485000e+00  0.056893  0.025436  0.030801\n",
       "298  1.490000e+00  0.084693  0.017487  0.049668\n",
       "299  1.495000e+00  0.084585  0.005146  0.027637\n",
       "300  1.500000e+00  0.073437  0.045028  0.027319\n",
       "\n",
       "[602 rows x 4 columns]"
      ]
     },
     "execution_count": 140,
     "metadata": {},
     "output_type": "execute_result"
    }
   ],
   "source": [
    "df"
   ]
  },
  {
   "cell_type": "code",
   "execution_count": 141,
   "id": "9b48eb42",
   "metadata": {},
   "outputs": [
    {
     "data": {
      "text/plain": [
       "(array([2.88630501]), -0.11158603649827326)"
      ]
     },
     "execution_count": 141,
     "metadata": {},
     "output_type": "execute_result"
    }
   ],
   "source": [
    "deformation_range = (0, 0.16)\n",
    "d_range = np.linspace(0, max(deformation_range) + 0.1, 50)\n",
    "x = df[df['deformation'] <= max(deformation_range)]['deformation']\n",
    "y = df[df['deformation'] <= max(deformation_range)]['sx']\n",
    "\n",
    "slope, pcov = curve_fit(ax, x, y)\n",
    "R2 = r2_score(y, slope*x)\n",
    "\n",
    "slope, R2\n",
    "\n",
    "\n",
    "# linefit = linregress(x, y)\n",
    "# intercept, slope, R2 = linefit.intercept, linefit.slope, linefit.rvalue**2\n",
    "# intercept, slope, R2"
   ]
  },
  {
   "cell_type": "raw",
   "id": "bd3f4fc3",
   "metadata": {},
   "source": [
    "y[:5], slope*x[:5], x[:5]"
   ]
  },
  {
   "cell_type": "code",
   "execution_count": 142,
   "id": "84e962c5",
   "metadata": {},
   "outputs": [
    {
     "data": {
      "text/plain": [
       "<matplotlib.legend.Legend at 0x2a3d2347040>"
      ]
     },
     "execution_count": 142,
     "metadata": {},
     "output_type": "execute_result"
    },
    {
     "data": {
      "image/png": "[encoded data removed]",
      "text/plain": [
       "<Figure size 288x216 with 1 Axes>"
      ]
     },
     "metadata": {
      "needs_background": "light"
     },
     "output_type": "display_data"
    }
   ],
   "source": [
    "#Рисую график с линией тренда до 16% деформации:\n",
    "df.plot.scatter(x='deformation', y='sx', figsize=(4, 3))\n",
    "plt.plot(d_range, slope*d_range, 'darkred', label=f'$y=ax$, E={slope[0]:.2f}', lw=3)\n",
    "# plt.plot(d_range, intercept + slope*d_range, 'darkred', label=f'linear fit; $R^2$={R2:.3f}', lw=3)\n",
    "plt.xlim(-0.05, 0.5)\n",
    "plt.xlabel('Деформация_x')\n",
    "plt.ylabel('Напряжение, ГПа')\n",
    "plt.title('ПЭС-210; Давление при отжиге 44000 атм')\n",
    "plt.legend()"
   ]
  },
  {
   "cell_type": "code",
   "execution_count": null,
   "id": "ca7b5a49",
   "metadata": {},
   "outputs": [],
   "source": []
  },
  {
   "cell_type": "code",
   "execution_count": null,
   "id": "80dbcbbe",
   "metadata": {},
   "outputs": [],
   "source": []
  }
 ],
 "metadata": {
  "kernelspec": {
   "display_name": "Python 3 (ipykernel)",
   "language": "python",
   "name": "python3"
  },
  "language_info": {
   "codemirror_mode": {
    "name": "ipython",
    "version": 3
   },
   "file_extension": ".py",
   "mimetype": "text/x-python",
   "name": "python",
   "nbconvert_exporter": "python",
   "pygments_lexer": "ipython3",
   "version": "3.8.0"
  }
 },
 "nbformat": 4,
 "nbformat_minor": 5
}
